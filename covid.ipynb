{
 "cells": [
  {
   "cell_type": "code",
   "execution_count": 1,
   "metadata": {},
   "outputs": [],
   "source": [
    "import numpy as np\n",
    "import pandas as pd\n",
    "import matplotlib.pyplot as plt\n",
    "import statsmodels.api as sm\n"
   ]
  },
  {
   "cell_type": "code",
   "execution_count": 2,
   "metadata": {},
   "outputs": [],
   "source": [
    "data = pd.read_excel(r'C:\\Users\\netto\\Desktop\\Resumo_Curso_Datascience\\HIST_PAINEL_COVIDBR_15jul2020.xlsx')\n"
   ]
  },
  {
   "cell_type": "code",
   "execution_count": 3,
   "metadata": {},
   "outputs": [],
   "source": [
    "data = data.drop(data[data.coduf == 76].index)\n",
    "data = data.drop(data[data.codRegiaoSaude > 0].index)\n"
   ]
  },
  {
   "cell_type": "code",
   "execution_count": 4,
   "metadata": {},
   "outputs": [],
   "source": [
    "data = data.drop(['interior/metropolitana','emAcompanhamentoNovos','Recuperadosnovos'],axis=1)\n",
    "data = data.drop(['casosNovos','casosAcumulado','semanaEpi','nomeRegiaoSaude','codRegiaoSaude','codmun','coduf','regiao'],axis=1)\n",
    "data = data.drop(['municipio'],axis=1)\n"
   ]
  },
  {
   "cell_type": "code",
   "execution_count": 5,
   "metadata": {},
   "outputs": [],
   "source": [
    "data.dropna(subset=['populacaoTCU2019'], inplace=True)\n"
   ]
  },
  {
   "cell_type": "code",
   "execution_count": 23,
   "metadata": {},
   "outputs": [],
   "source": [
    "Inicio_intervalo = 0\n",
    "fim_intervalo = 142\n",
    "list = []\n",
    "list_02 = []\n",
    "for fim_intervalo in range(142,3834,142):\n",
    "    Obitos = data.iloc[Inicio_intervalo:fim_intervalo, 3]\n",
    "    Estado = data.iloc[Inicio_intervalo, 0]\n",
    "    Inicio_intervalo = Inicio_intervalo + 142\n",
    "    list.append(max(Obitos))\n",
    "    list_02.append(Estado)\n",
    "\n",
    "    \n"
   ]
  },
  {
   "cell_type": "code",
   "execution_count": 24,
   "metadata": {},
   "outputs": [],
   "source": [
    "\n",
    "Densidades_demograficas = pd.read_html('http://pt.wikipedia.org/wiki/Lista_de_unidades_federativas_do_Brasil_por_densidade_demogr%C3%A1fica')\n"
   ]
  },
  {
   "cell_type": "code",
   "execution_count": 25,
   "metadata": {},
   "outputs": [],
   "source": [
    "del Densidades_demograficas[1]"
   ]
  },
  {
   "cell_type": "code",
   "execution_count": 26,
   "metadata": {},
   "outputs": [],
   "source": [
    "\n",
    "Tabela_densidade = Densidades_demograficas[0]\n"
   ]
  },
  {
   "cell_type": "code",
   "execution_count": 27,
   "metadata": {},
   "outputs": [],
   "source": [
    "Significado_sigla = {\n",
    "  \"RO\": \"Rondônia\",\n",
    "  \"AC\": \"Acre\",\n",
    "  \"AM\": \"Amazonas\",\n",
    "  \"RR\": \"Roraima\",\n",
    "  \"PA\": \"Pará\",\n",
    "  \"AP\": \"Amapá\",\n",
    "  \"TO\": \"Tocantins\",\n",
    "  \"MA\": \"Maranhão\",\n",
    "  \"PI\": \"Piauí\",\n",
    "  \"CE\": \"Ceará\",\n",
    "  \"RN\": \"Rio Grande do Norte\",\n",
    "  \"PB\": \"Paraíba\",\n",
    "  \"PE\": \"Pernambuco\",\n",
    "  \"AL\": \"Alagoas\",\n",
    "  \"SE\": \"Sergipe\",\n",
    "  \"BA\": \"Bahia\",\n",
    "  \"MG\": \"Minas Gerais\",\n",
    "  \"ES\": \"Espírito Santo\",\n",
    "  \"RJ\": \"Rio de Janeiro\",\n",
    "  \"SP\": \"São Paulo\",\n",
    "  \"PR\": \"Paraná\",\n",
    "  \"SC\": \"Santa Catarina\",\n",
    "  \"RS\": \"Rio Grande do Sul\",\n",
    "  \"MS\": \"Mato Grosso do Sul\",\n",
    "  \"MT\": \"Mato Grosso\",\n",
    "  \"GO\": \"Goiás\",\n",
    "}\n"
   ]
  },
  {
   "cell_type": "code",
   "execution_count": 28,
   "metadata": {},
   "outputs": [],
   "source": [
    "indexação_densidade = Tabela_densidade.set_index(['Unidade federativa'])\n",
    "        "
   ]
  },
  {
   "cell_type": "code",
   "execution_count": 29,
   "metadata": {},
   "outputs": [],
   "source": [
    "list_03 = []\n",
    "for name,dict_ in Significado_sigla.items():\n",
    "    Densidade_estado = indexação_densidade.loc[[dict_],['Densidade demográfica (projeção 2019)']]    \n",
    "    Lista_densidades = Densidade_estado.iloc[0:2,0] \n",
    "    list_03.append(max(Lista_densidades)/100)"
   ]
  },
  {
   "cell_type": "code",
   "execution_count": 30,
   "metadata": {},
   "outputs": [],
   "source": [
    "Tabela_valores = {'Densidade Demográfica':  list_03,\n",
    "        'Obitos Acumulados': list,\n",
    "        }"
   ]
  },
  {
   "cell_type": "code",
   "execution_count": 31,
   "metadata": {},
   "outputs": [],
   "source": [
    "Grafico = pd.DataFrame(Tabela_valores, columns = ['Densidade Demográfica', 'Obitos Acumulados'])"
   ]
  },
  {
   "cell_type": "code",
   "execution_count": null,
   "metadata": {},
   "outputs": [],
   "source": []
  },
  {
   "cell_type": "markdown",
   "metadata": {},
   "source": [
    "Densidade_por_estado = Densidade_estado.iloc[1,1]\n"
   ]
  },
  {
   "cell_type": "code",
   "execution_count": 32,
   "metadata": {},
   "outputs": [],
   "source": [
    "y = Grafico['Obitos Acumulados']\n",
    "x1 = Grafico['Densidade Demográfica']\n",
    "      "
   ]
  },
  {
   "cell_type": "code",
   "execution_count": 33,
   "metadata": {},
   "outputs": [
    {
     "data": {
      "image/png": "[encoded data removed]",
      "text/plain": [
       "<Figure size 432x288 with 1 Axes>"
      ]
     },
     "metadata": {
      "needs_background": "light"
     },
     "output_type": "display_data"
    }
   ],
   "source": [
    "plt.scatter(x1,y)\n",
    "plt.xlabel('Densidade Demográfica', fontsize = 20)\n",
    "plt.ylabel('Obitos Acumulados', fontsize = 20)\n",
    "plt.show()\n"
   ]
  },
  {
   "cell_type": "code",
   "execution_count": 34,
   "metadata": {
    "scrolled": true
   },
   "outputs": [
    {
     "data": {
      "text/html": [
       "<table class=\"simpletable\">\n",
       "<caption>OLS Regression Results</caption>\n",
       "<tr>\n",
       "  <th>Dep. Variable:</th>    <td>Obitos Acumulados</td> <th>  R-squared:         </th> <td>   0.462</td>\n",
       "</tr>\n",
       "<tr>\n",
       "  <th>Model:</th>                   <td>OLS</td>        <th>  Adj. R-squared:    </th> <td>   0.440</td>\n",
       "</tr>\n",
       "<tr>\n",
       "  <th>Method:</th>             <td>Least Squares</td>   <th>  F-statistic:       </th> <td>   20.63</td>\n",
       "</tr>\n",
       "<tr>\n",
       "  <th>Date:</th>             <td>Sat, 18 Jul 2020</td>  <th>  Prob (F-statistic):</th> <td>0.000133</td>\n",
       "</tr>\n",
       "<tr>\n",
       "  <th>Time:</th>                 <td>14:18:41</td>      <th>  Log-Likelihood:    </th> <td> -244.88</td>\n",
       "</tr>\n",
       "<tr>\n",
       "  <th>No. Observations:</th>      <td>    26</td>       <th>  AIC:               </th> <td>   493.8</td>\n",
       "</tr>\n",
       "<tr>\n",
       "  <th>Df Residuals:</th>          <td>    24</td>       <th>  BIC:               </th> <td>   496.3</td>\n",
       "</tr>\n",
       "<tr>\n",
       "  <th>Df Model:</th>              <td>     1</td>       <th>                     </th>     <td> </td>   \n",
       "</tr>\n",
       "<tr>\n",
       "  <th>Covariance Type:</th>      <td>nonrobust</td>     <th>                     </th>     <td> </td>   \n",
       "</tr>\n",
       "</table>\n",
       "<table class=\"simpletable\">\n",
       "<tr>\n",
       "            <td></td>               <th>coef</th>     <th>std err</th>      <th>t</th>      <th>P>|t|</th>  <th>[0.025</th>    <th>0.975]</th>  \n",
       "</tr>\n",
       "<tr>\n",
       "  <th>const</th>                 <td>  854.3827</td> <td>  751.553</td> <td>    1.137</td> <td> 0.267</td> <td> -696.746</td> <td> 2405.512</td>\n",
       "</tr>\n",
       "<tr>\n",
       "  <th>Densidade Demográfica</th> <td>   34.1672</td> <td>    7.523</td> <td>    4.542</td> <td> 0.000</td> <td>   18.641</td> <td>   49.693</td>\n",
       "</tr>\n",
       "</table>\n",
       "<table class=\"simpletable\">\n",
       "<tr>\n",
       "  <th>Omnibus:</th>       <td>28.822</td> <th>  Durbin-Watson:     </th> <td>   2.400</td>\n",
       "</tr>\n",
       "<tr>\n",
       "  <th>Prob(Omnibus):</th> <td> 0.000</td> <th>  Jarque-Bera (JB):  </th> <td>  59.630</td>\n",
       "</tr>\n",
       "<tr>\n",
       "  <th>Skew:</th>          <td> 2.206</td> <th>  Prob(JB):          </th> <td>1.13e-13</td>\n",
       "</tr>\n",
       "<tr>\n",
       "  <th>Kurtosis:</th>      <td> 8.965</td> <th>  Cond. No.          </th> <td>    123.</td>\n",
       "</tr>\n",
       "</table><br/><br/>Warnings:<br/>[1] Standard Errors assume that the covariance matrix of the errors is correctly specified."
      ],
      "text/plain": [
       "<class 'statsmodels.iolib.summary.Summary'>\n",
       "\"\"\"\n",
       "                            OLS Regression Results                            \n",
       "==============================================================================\n",
       "Dep. Variable:      Obitos Acumulados   R-squared:                       0.462\n",
       "Model:                            OLS   Adj. R-squared:                  0.440\n",
       "Method:                 Least Squares   F-statistic:                     20.63\n",
       "Date:                Sat, 18 Jul 2020   Prob (F-statistic):           0.000133\n",
       "Time:                        14:18:41   Log-Likelihood:                -244.88\n",
       "No. Observations:                  26   AIC:                             493.8\n",
       "Df Residuals:                      24   BIC:                             496.3\n",
       "Df Model:                           1                                         \n",
       "Covariance Type:            nonrobust                                         \n",
       "=========================================================================================\n",
       "                            coef    std err          t      P>|t|      [0.025      0.975]\n",
       "-----------------------------------------------------------------------------------------\n",
       "const                   854.3827    751.553      1.137      0.267    -696.746    2405.512\n",
       "Densidade Demográfica    34.1672      7.523      4.542      0.000      18.641      49.693\n",
       "==============================================================================\n",
       "Omnibus:                       28.822   Durbin-Watson:                   2.400\n",
       "Prob(Omnibus):                  0.000   Jarque-Bera (JB):               59.630\n",
       "Skew:                           2.206   Prob(JB):                     1.13e-13\n",
       "Kurtosis:                       8.965   Cond. No.                         123.\n",
       "==============================================================================\n",
       "\n",
       "Warnings:\n",
       "[1] Standard Errors assume that the covariance matrix of the errors is correctly specified.\n",
       "\"\"\""
      ]
     },
     "execution_count": 34,
     "metadata": {},
     "output_type": "execute_result"
    }
   ],
   "source": [
    "x = sm.add_constant(x1)\n",
    "results = sm.OLS(y,x).fit()\n",
    "results.summary() \n",
    "\n"
   ]
  },
  {
   "cell_type": "code",
   "execution_count": 36,
   "metadata": {},
   "outputs": [
    {
     "data": {
      "image/png": "[encoded data removed]",
      "text/plain": [
       "<Figure size 432x288 with 1 Axes>"
      ]
     },
     "metadata": {
      "needs_background": "light"
     },
     "output_type": "display_data"
    }
   ],
   "source": [
    "plt.scatter(x1,y)\n",
    "yhat = 34.1672\t*x1 + 854.3827\n",
    "fig = plt.plot(x1,yhat, lw=4, c='orange', label ='regression line')\n",
    "plt.xlabel('Densidade Demográfica', fontsize = 20)\n",
    "plt.ylabel('Obitos Acumulados', fontsize = 20)\n",
    "plt.show()\n"
   ]
  },
  {
   "cell_type": "code",
   "execution_count": null,
   "metadata": {},
   "outputs": [],
   "source": []
  },
  {
   "cell_type": "code",
   "execution_count": null,
   "metadata": {},
   "outputs": [],
   "source": []
  }
 ],
 "metadata": {
  "kernelspec": {
   "display_name": "Python 3",
   "language": "python",
   "name": "python3"
  },
  "language_info": {
   "codemirror_mode": {
    "name": "ipython",
    "version": 3
   },
   "file_extension": ".py",
   "mimetype": "text/x-python",
   "name": "python",
   "nbconvert_exporter": "python",
   "pygments_lexer": "ipython3",
   "version": "3.7.6"
  }
 },
 "nbformat": 4,
 "nbformat_minor": 4
}
